{
 "cells": [
  {
   "cell_type": "markdown",
   "id": "450caf73",
   "metadata": {},
   "source": [
    "# SPAM EMAIL CLASSIFIER\n"
   ]
  },
  {
   "cell_type": "code",
   "execution_count": 5,
   "id": "865328fd",
   "metadata": {},
   "outputs": [],
   "source": [
    "import pandas as pd\n",
    "import string\n",
    "from sklearn.model_selection import train_test_split\n",
    "from sklearn.feature_extraction.text import CountVectorizer\n",
    "from sklearn.naive_bayes import MultinomialNB"
   ]
  },
  {
   "cell_type": "code",
   "execution_count": 8,
   "id": "d10e9b18",
   "metadata": {},
   "outputs": [
    {
     "data": {
      "text/html": [
       "<div>\n",
       "<style scoped>\n",
       "    .dataframe tbody tr th:only-of-type {\n",
       "        vertical-align: middle;\n",
       "    }\n",
       "\n",
       "    .dataframe tbody tr th {\n",
       "        vertical-align: top;\n",
       "    }\n",
       "\n",
       "    .dataframe thead th {\n",
       "        text-align: right;\n",
       "    }\n",
       "</style>\n",
       "<table border=\"1\" class=\"dataframe\">\n",
       "  <thead>\n",
       "    <tr style=\"text-align: right;\">\n",
       "      <th></th>\n",
       "      <th>email</th>\n",
       "      <th>label</th>\n",
       "    </tr>\n",
       "  </thead>\n",
       "  <tbody>\n",
       "    <tr>\n",
       "      <th>0</th>\n",
       "      <td>Upgrade to our premium plan for exclusive acce...</td>\n",
       "      <td>ham</td>\n",
       "    </tr>\n",
       "    <tr>\n",
       "      <th>1</th>\n",
       "      <td>Happy holidays from our team! Wishing you joy ...</td>\n",
       "      <td>ham</td>\n",
       "    </tr>\n",
       "    <tr>\n",
       "      <th>2</th>\n",
       "      <td>We're hiring! Check out our career opportuniti...</td>\n",
       "      <td>ham</td>\n",
       "    </tr>\n",
       "    <tr>\n",
       "      <th>3</th>\n",
       "      <td>Your Amazon account has been locked. Click her...</td>\n",
       "      <td>spam</td>\n",
       "    </tr>\n",
       "    <tr>\n",
       "      <th>4</th>\n",
       "      <td>Your opinion matters! Take our survey and help...</td>\n",
       "      <td>ham</td>\n",
       "    </tr>\n",
       "    <tr>\n",
       "      <th>...</th>\n",
       "      <td>...</td>\n",
       "      <td>...</td>\n",
       "    </tr>\n",
       "    <tr>\n",
       "      <th>174</th>\n",
       "      <td>We're pleased to inform you that your refund h...</td>\n",
       "      <td>ham</td>\n",
       "    </tr>\n",
       "    <tr>\n",
       "      <th>175</th>\n",
       "      <td>Get rich quick! Invest in our revolutionary ne...</td>\n",
       "      <td>spam</td>\n",
       "    </tr>\n",
       "    <tr>\n",
       "      <th>176</th>\n",
       "      <td>Your free trial period is ending soon. Upgrade...</td>\n",
       "      <td>ham</td>\n",
       "    </tr>\n",
       "    <tr>\n",
       "      <th>177</th>\n",
       "      <td>Your order is on its way! Track your shipment ...</td>\n",
       "      <td>ham</td>\n",
       "    </tr>\n",
       "    <tr>\n",
       "      <th>178</th>\n",
       "      <td>Limited-time offer! Get 50% off on all purchas...</td>\n",
       "      <td>spam</td>\n",
       "    </tr>\n",
       "  </tbody>\n",
       "</table>\n",
       "<p>179 rows × 2 columns</p>\n",
       "</div>"
      ],
      "text/plain": [
       "                                                 email label\n",
       "0    Upgrade to our premium plan for exclusive acce...   ham\n",
       "1    Happy holidays from our team! Wishing you joy ...   ham\n",
       "2    We're hiring! Check out our career opportuniti...   ham\n",
       "3    Your Amazon account has been locked. Click her...  spam\n",
       "4    Your opinion matters! Take our survey and help...   ham\n",
       "..                                                 ...   ...\n",
       "174  We're pleased to inform you that your refund h...   ham\n",
       "175  Get rich quick! Invest in our revolutionary ne...  spam\n",
       "176  Your free trial period is ending soon. Upgrade...   ham\n",
       "177  Your order is on its way! Track your shipment ...   ham\n",
       "178  Limited-time offer! Get 50% off on all purchas...  spam\n",
       "\n",
       "[179 rows x 2 columns]"
      ]
     },
     "execution_count": 8,
     "metadata": {},
     "output_type": "execute_result"
    }
   ],
   "source": [
    "df = pd.read_csv(r\"C:\\Users\\91859\\Downloads\\email_classification.csv\")\n",
    "df"
   ]
  },
  {
   "cell_type": "code",
   "execution_count": 9,
   "id": "563d3984",
   "metadata": {},
   "outputs": [
    {
     "data": {
      "text/html": [
       "<div>\n",
       "<style scoped>\n",
       "    .dataframe tbody tr th:only-of-type {\n",
       "        vertical-align: middle;\n",
       "    }\n",
       "\n",
       "    .dataframe tbody tr th {\n",
       "        vertical-align: top;\n",
       "    }\n",
       "\n",
       "    .dataframe thead th {\n",
       "        text-align: right;\n",
       "    }\n",
       "</style>\n",
       "<table border=\"1\" class=\"dataframe\">\n",
       "  <thead>\n",
       "    <tr style=\"text-align: right;\">\n",
       "      <th></th>\n",
       "      <th>email</th>\n",
       "      <th>label</th>\n",
       "    </tr>\n",
       "  </thead>\n",
       "  <tbody>\n",
       "    <tr>\n",
       "      <th>0</th>\n",
       "      <td>Upgrade to our premium plan for exclusive acce...</td>\n",
       "      <td>ham</td>\n",
       "    </tr>\n",
       "    <tr>\n",
       "      <th>1</th>\n",
       "      <td>Happy holidays from our team! Wishing you joy ...</td>\n",
       "      <td>ham</td>\n",
       "    </tr>\n",
       "    <tr>\n",
       "      <th>2</th>\n",
       "      <td>We're hiring! Check out our career opportuniti...</td>\n",
       "      <td>ham</td>\n",
       "    </tr>\n",
       "    <tr>\n",
       "      <th>3</th>\n",
       "      <td>Your Amazon account has been locked. Click her...</td>\n",
       "      <td>spam</td>\n",
       "    </tr>\n",
       "    <tr>\n",
       "      <th>4</th>\n",
       "      <td>Your opinion matters! Take our survey and help...</td>\n",
       "      <td>ham</td>\n",
       "    </tr>\n",
       "  </tbody>\n",
       "</table>\n",
       "</div>"
      ],
      "text/plain": [
       "                                               email label\n",
       "0  Upgrade to our premium plan for exclusive acce...   ham\n",
       "1  Happy holidays from our team! Wishing you joy ...   ham\n",
       "2  We're hiring! Check out our career opportuniti...   ham\n",
       "3  Your Amazon account has been locked. Click her...  spam\n",
       "4  Your opinion matters! Take our survey and help...   ham"
      ]
     },
     "execution_count": 9,
     "metadata": {},
     "output_type": "execute_result"
    }
   ],
   "source": [
    "df.head()"
   ]
  },
  {
   "cell_type": "markdown",
   "id": "189ad236",
   "metadata": {},
   "source": [
    "# How Many Spam or ham Email text we have"
   ]
  },
  {
   "cell_type": "code",
   "execution_count": 10,
   "id": "4e491fd7",
   "metadata": {},
   "outputs": [
    {
     "data": {
      "text/plain": [
       "ham     100\n",
       "spam     79\n",
       "Name: label, dtype: int64"
      ]
     },
     "execution_count": 10,
     "metadata": {},
     "output_type": "execute_result"
    }
   ],
   "source": [
    "df[\"label\"].value_counts()"
   ]
  },
  {
   "cell_type": "markdown",
   "id": "c9cf2aa9",
   "metadata": {},
   "source": [
    "# Removing punctuation and special characters"
   ]
  },
  {
   "cell_type": "code",
   "execution_count": 11,
   "id": "0d1fae19",
   "metadata": {},
   "outputs": [
    {
     "data": {
      "text/plain": [
       "0      Upgrade to our premium plan for exclusive acce...\n",
       "1      Happy holidays from our team Wishing you joy a...\n",
       "2      Were hiring Check out our career opportunities...\n",
       "3      Your Amazon account has been locked Click here...\n",
       "4      Your opinion matters Take our survey and help ...\n",
       "                             ...                        \n",
       "174    Were pleased to inform you that your refund ha...\n",
       "175    Get rich quick Invest in our revolutionary new...\n",
       "176    Your free trial period is ending soon Upgrade ...\n",
       "177    Your order is on its way Track your shipment f...\n",
       "178    Limitedtime offer Get 50 off on all purchases ...\n",
       "Name: cleaned_email, Length: 179, dtype: object"
      ]
     },
     "execution_count": 11,
     "metadata": {},
     "output_type": "execute_result"
    }
   ],
   "source": [
    "def remove_punctuation(text):\n",
    "    punctuations = string.punctuation\n",
    "    no_punct = ''.join([char for char in text if char not in punctuations])\n",
    "    return no_punct\n",
    "\n",
    "df['cleaned_email'] = df['email'].apply(remove_punctuation)\n",
    "df['cleaned_email']"
   ]
  },
  {
   "cell_type": "code",
   "execution_count": null,
   "id": "6c3f68ba",
   "metadata": {},
   "outputs": [],
   "source": [
    "#Converting all text to lowercase"
   ]
  },
  {
   "cell_type": "code",
   "execution_count": 12,
   "id": "c6654cf5",
   "metadata": {},
   "outputs": [
    {
     "data": {
      "text/plain": [
       "0      upgrade to our premium plan for exclusive acce...\n",
       "1      happy holidays from our team wishing you joy a...\n",
       "2      were hiring check out our career opportunities...\n",
       "3      your amazon account has been locked click here...\n",
       "4      your opinion matters take our survey and help ...\n",
       "                             ...                        \n",
       "174    were pleased to inform you that your refund ha...\n",
       "175    get rich quick invest in our revolutionary new...\n",
       "176    your free trial period is ending soon upgrade ...\n",
       "177    your order is on its way track your shipment f...\n",
       "178    limitedtime offer get 50 off on all purchases ...\n",
       "Name: cleaned_email, Length: 179, dtype: object"
      ]
     },
     "execution_count": 12,
     "metadata": {},
     "output_type": "execute_result"
    }
   ],
   "source": [
    "def lower_case(text):\n",
    "    return text.lower()\n",
    "\n",
    "df['cleaned_email'] = df['cleaned_email'].apply(lower_case)\n",
    "df['cleaned_email']"
   ]
  },
  {
   "cell_type": "markdown",
   "id": "cd358a81",
   "metadata": {},
   "source": [
    "# Removing STOPWORDS"
   ]
  },
  {
   "cell_type": "code",
   "execution_count": 13,
   "id": "dba215c5",
   "metadata": {},
   "outputs": [
    {
     "name": "stderr",
     "output_type": "stream",
     "text": [
      "[nltk_data] Downloading package stopwords to\n",
      "[nltk_data]     C:\\Users\\91859\\AppData\\Roaming\\nltk_data...\n",
      "[nltk_data]   Unzipping corpora\\stopwords.zip.\n"
     ]
    }
   ],
   "source": [
    "from nltk.corpus import stopwords\n",
    "import nltk\n",
    "nltk.download('stopwords')\n",
    "\n",
    "def clean_stopwords(text):\n",
    "    stop_words = set(stopwords.words('english'))\n",
    "    words = text.split()  # Split text into words\n",
    "    cleaned_words = [word for word in words if word.lower() not in stop_words]\n",
    "    return ' '.join(cleaned_words)  # Join cleaned words back into a single string"
   ]
  },
  {
   "cell_type": "code",
   "execution_count": 14,
   "id": "5276fb47",
   "metadata": {},
   "outputs": [
    {
     "data": {
      "text/plain": [
       "0      upgrade premium plan exclusive access premium ...\n",
       "1      happy holidays team wishing joy prosperity season\n",
       "2      hiring check career opportunities join dynamic...\n",
       "3      amazon account locked click verify account inf...\n",
       "4      opinion matters take survey help us enhance ex...\n",
       "                             ...                        \n",
       "174         pleased inform refund processed successfully\n",
       "175    get rich quick invest revolutionary new scheme...\n",
       "176    free trial period ending soon upgrade continue...\n",
       "177            order way track shipment realtime updates\n",
       "178    limitedtime offer get 50 purchases today dont ...\n",
       "Name: cleaned_email, Length: 179, dtype: object"
      ]
     },
     "execution_count": 14,
     "metadata": {},
     "output_type": "execute_result"
    }
   ],
   "source": [
    "df['cleaned_email'] = df['cleaned_email'].apply(clean_stopwords)\n",
    "df['cleaned_email']"
   ]
  },
  {
   "cell_type": "code",
   "execution_count": 35,
   "id": "2cb7dc9a",
   "metadata": {},
   "outputs": [],
   "source": [
    "df[\"label\"].replace({\"ham\": 0, \"spam\": 1}, inplace=True)"
   ]
  },
  {
   "cell_type": "code",
   "execution_count": 17,
   "id": "9686c288",
   "metadata": {},
   "outputs": [
    {
     "data": {
      "text/html": [
       "<div>\n",
       "<style scoped>\n",
       "    .dataframe tbody tr th:only-of-type {\n",
       "        vertical-align: middle;\n",
       "    }\n",
       "\n",
       "    .dataframe tbody tr th {\n",
       "        vertical-align: top;\n",
       "    }\n",
       "\n",
       "    .dataframe thead th {\n",
       "        text-align: right;\n",
       "    }\n",
       "</style>\n",
       "<table border=\"1\" class=\"dataframe\">\n",
       "  <thead>\n",
       "    <tr style=\"text-align: right;\">\n",
       "      <th></th>\n",
       "      <th>email</th>\n",
       "      <th>label</th>\n",
       "      <th>cleaned_email</th>\n",
       "    </tr>\n",
       "  </thead>\n",
       "  <tbody>\n",
       "    <tr>\n",
       "      <th>0</th>\n",
       "      <td>Upgrade to our premium plan for exclusive acce...</td>\n",
       "      <td>0</td>\n",
       "      <td>upgrade premium plan exclusive access premium ...</td>\n",
       "    </tr>\n",
       "    <tr>\n",
       "      <th>1</th>\n",
       "      <td>Happy holidays from our team! Wishing you joy ...</td>\n",
       "      <td>0</td>\n",
       "      <td>happy holidays team wishing joy prosperity season</td>\n",
       "    </tr>\n",
       "    <tr>\n",
       "      <th>2</th>\n",
       "      <td>We're hiring! Check out our career opportuniti...</td>\n",
       "      <td>0</td>\n",
       "      <td>hiring check career opportunities join dynamic...</td>\n",
       "    </tr>\n",
       "    <tr>\n",
       "      <th>3</th>\n",
       "      <td>Your Amazon account has been locked. Click her...</td>\n",
       "      <td>1</td>\n",
       "      <td>amazon account locked click verify account inf...</td>\n",
       "    </tr>\n",
       "    <tr>\n",
       "      <th>4</th>\n",
       "      <td>Your opinion matters! Take our survey and help...</td>\n",
       "      <td>0</td>\n",
       "      <td>opinion matters take survey help us enhance ex...</td>\n",
       "    </tr>\n",
       "    <tr>\n",
       "      <th>...</th>\n",
       "      <td>...</td>\n",
       "      <td>...</td>\n",
       "      <td>...</td>\n",
       "    </tr>\n",
       "    <tr>\n",
       "      <th>174</th>\n",
       "      <td>We're pleased to inform you that your refund h...</td>\n",
       "      <td>0</td>\n",
       "      <td>pleased inform refund processed successfully</td>\n",
       "    </tr>\n",
       "    <tr>\n",
       "      <th>175</th>\n",
       "      <td>Get rich quick! Invest in our revolutionary ne...</td>\n",
       "      <td>1</td>\n",
       "      <td>get rich quick invest revolutionary new scheme...</td>\n",
       "    </tr>\n",
       "    <tr>\n",
       "      <th>176</th>\n",
       "      <td>Your free trial period is ending soon. Upgrade...</td>\n",
       "      <td>0</td>\n",
       "      <td>free trial period ending soon upgrade continue...</td>\n",
       "    </tr>\n",
       "    <tr>\n",
       "      <th>177</th>\n",
       "      <td>Your order is on its way! Track your shipment ...</td>\n",
       "      <td>0</td>\n",
       "      <td>order way track shipment realtime updates</td>\n",
       "    </tr>\n",
       "    <tr>\n",
       "      <th>178</th>\n",
       "      <td>Limited-time offer! Get 50% off on all purchas...</td>\n",
       "      <td>1</td>\n",
       "      <td>limitedtime offer get 50 purchases today dont ...</td>\n",
       "    </tr>\n",
       "  </tbody>\n",
       "</table>\n",
       "<p>179 rows × 3 columns</p>\n",
       "</div>"
      ],
      "text/plain": [
       "                                                 email  label  \\\n",
       "0    Upgrade to our premium plan for exclusive acce...      0   \n",
       "1    Happy holidays from our team! Wishing you joy ...      0   \n",
       "2    We're hiring! Check out our career opportuniti...      0   \n",
       "3    Your Amazon account has been locked. Click her...      1   \n",
       "4    Your opinion matters! Take our survey and help...      0   \n",
       "..                                                 ...    ...   \n",
       "174  We're pleased to inform you that your refund h...      0   \n",
       "175  Get rich quick! Invest in our revolutionary ne...      1   \n",
       "176  Your free trial period is ending soon. Upgrade...      0   \n",
       "177  Your order is on its way! Track your shipment ...      0   \n",
       "178  Limited-time offer! Get 50% off on all purchas...      1   \n",
       "\n",
       "                                         cleaned_email  \n",
       "0    upgrade premium plan exclusive access premium ...  \n",
       "1    happy holidays team wishing joy prosperity season  \n",
       "2    hiring check career opportunities join dynamic...  \n",
       "3    amazon account locked click verify account inf...  \n",
       "4    opinion matters take survey help us enhance ex...  \n",
       "..                                                 ...  \n",
       "174       pleased inform refund processed successfully  \n",
       "175  get rich quick invest revolutionary new scheme...  \n",
       "176  free trial period ending soon upgrade continue...  \n",
       "177          order way track shipment realtime updates  \n",
       "178  limitedtime offer get 50 purchases today dont ...  \n",
       "\n",
       "[179 rows x 3 columns]"
      ]
     },
     "execution_count": 17,
     "metadata": {},
     "output_type": "execute_result"
    }
   ],
   "source": [
    "df"
   ]
  },
  {
   "cell_type": "markdown",
   "id": "47051b00",
   "metadata": {},
   "source": [
    "#  Model Building"
   ]
  },
  {
   "cell_type": "code",
   "execution_count": 31,
   "id": "40b96217",
   "metadata": {},
   "outputs": [
    {
     "name": "stdout",
     "output_type": "stream",
     "text": [
      "Test Accuracy: 1.0\n"
     ]
    }
   ],
   "source": [
    "from sklearn.feature_extraction.text import CountVectorizer\n",
    "vectorizer = CountVectorizer()\n",
    "\n",
    "X = vectorizer.fit_transform(df['cleaned_email'])  # 'cleaned_email' sütunundaki metinleri vektörlere dönüştürür\n",
    "y = df[\"label\"]\n",
    "\n",
    "X_train, X_test, y_train, y_test = train_test_split(X, y, test_size=0.2, random_state=42)\n",
    "\n",
    "clf = MultinomialNB()\n",
    "clf.fit(X_train, y_train)\n",
    "\n",
    "accuracy = clf.score(X_test, y_test)\n",
    "print(f\"Test Accuracy: {accuracy}\")\n"
   ]
  },
  {
   "cell_type": "code",
   "execution_count": 19,
   "id": "871c4fd7",
   "metadata": {},
   "outputs": [
    {
     "name": "stdout",
     "output_type": "stream",
     "text": [
      "Predicted class: [1]\n"
     ]
    }
   ],
   "source": [
    "new_text = \"You have been selected as the lucky winner of our exclusive cruise vacation package! This is a once-in-a-lifetime opportunity to enjoy a luxurious cruise to exotic destinations around the world.To claim your prize, simply click on the link below and provide your contact details. Don't miss out on this amazing offer!\"\n",
    "\n",
    "X_new = vectorizer.transform([new_text])\n",
    "predicted = clf.predict(X_new)\n",
    "print(f\"Predicted class: {predicted}\")"
   ]
  }
 ],
 "metadata": {
  "kernelspec": {
   "display_name": "Python 3 (ipykernel)",
   "language": "python",
   "name": "python3"
  },
  "language_info": {
   "codemirror_mode": {
    "name": "ipython",
    "version": 3
   },
   "file_extension": ".py",
   "mimetype": "text/x-python",
   "name": "python",
   "nbconvert_exporter": "python",
   "pygments_lexer": "ipython3",
   "version": "3.9.12"
  }
 },
 "nbformat": 4,
 "nbformat_minor": 5
}
